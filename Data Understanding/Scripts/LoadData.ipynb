{
 "cells": [
  {
   "cell_type": "code",
   "execution_count": null,
   "metadata": {},
   "outputs": [],
   "source": [
    "import os\n",
    "import csv\n",
    "import shutil\n",
    "\n",
    "# Path of the folder containing the CSV files\n",
    "folder_path = '../Data/GE_Data'\n",
    "\n",
    "# Path of the folder where files with the value \"1\" will be copied\n",
    "output_folder = '../Data/EC_Data'\n",
    "\n",
    "# Name of the column you want to search\n",
    "column_name = 'stableCruise_boolean'\n",
    "\n",
    "def find_value_one_in_column(file_path, column_name):\n",
    "    \"\"\"\n",
    "    Search for the value '1' in a specific column of a CSV file.\n",
    "\n",
    "    Args:\n",
    "        file_path (str): The path to the CSV file.\n",
    "        column_name (str): The name of the column to search for the value '1'.\n",
    "\n",
    "    Returns:\n",
    "        bool: True if the value '1' is found in the column, False otherwise.\n",
    "    \"\"\"\n",
    "    with open(file_path, 'r', newline='') as csv_file:\n",
    "        reader = csv.DictReader(csv_file)\n",
    "        for row in reader:\n",
    "            if row.get(column_name) == '1':\n",
    "                return True\n",
    "    return False\n",
    "\n",
    "# Iterate through all CSV files in the folder and search for the value '1'\n",
    "for filename in os.listdir(folder_path):\n",
    "    if filename.endswith('.csv'):\n",
    "        file_path = os.path.join(folder_path, filename)\n",
    "        if find_value_one_in_column(file_path, column_name):\n",
    "            output_path = os.path.join(output_folder, filename)\n",
    "            shutil.copyfile(file_path, output_path)"
   ]
  }
 ],
 "metadata": {
  "language_info": {
   "name": "python"
  }
 },
 "nbformat": 4,
 "nbformat_minor": 2
}
