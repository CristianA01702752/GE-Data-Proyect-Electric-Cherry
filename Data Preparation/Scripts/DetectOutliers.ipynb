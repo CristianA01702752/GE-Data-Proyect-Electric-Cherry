{
 "cells": [
  {
   "cell_type": "code",
   "execution_count": null,
   "metadata": {},
   "outputs": [],
   "source": [
    "import dask.dataframe as dd\n",
    "import numpy as np\n",
    "import dask.array as da"
   ]
  },
  {
   "cell_type": "code",
   "execution_count": null,
   "metadata": {},
   "outputs": [],
   "source": [
    "def detect_outliers(series, z_threshold=3.0):\n",
    "    mean = series.mean()\n",
    "    std = series.std()\n",
    "    z_scores = (series - mean) / std\n",
    "    return (da.fabs(z_scores) > z_threshold)"
   ]
  },
  {
   "cell_type": "code",
   "execution_count": null,
   "metadata": {},
   "outputs": [],
   "source": [
    "# Especifica la ruta a tus archivos CSV, por ejemplo, \"data/*.csv\"\n",
    "files = [\"file1.csv\", \"file2.csv\", ...]  # Lista de archivos CSV\n",
    "\n",
    "# Lee los archivos CSV en un Dask DataFrame\n",
    "ddf = dd.read_csv(files)\n",
    "\n",
    "# Selecciona la columna en la que deseas buscar outliers\n",
    "column_name = 'tu_columna'\n",
    "\n",
    "# Aplica la función de detección de outliers a la columna\n",
    "outliers = ddf[column_name].map_partitions(detect_outliers)\n",
    "\n",
    "# Calcula la cantidad de outliers en cada archivo CSV\n",
    "outlier_counts = outliers.sum().compute()"
   ]
  }
 ],
 "metadata": {
  "language_info": {
   "name": "python"
  }
 },
 "nbformat": 4,
 "nbformat_minor": 2
}
