{
 "cells": [
  {
   "cell_type": "code",
   "execution_count": null,
   "metadata": {},
   "outputs": [],
   "source": [
    "import dask.dataframe as dd\n",
    "from dask_ml.decomposition import PCA\n",
    "import matplotlib.pyplot as plt\n",
    "import seaborn as sns\n"
   ]
  },
  {
   "cell_type": "code",
   "execution_count": null,
   "metadata": {},
   "outputs": [],
   "source": [
    "# Cargar tus datos con Dask\n",
    "ddf = dd.read_csv('tus_datos.csv')\n",
    "\n",
    "# Selecciona las columnas que deseas incluir en el análisis de PCA\n",
    "selected_columns = ['columna1', 'columna2', ...]  # Sustituye con los nombres de tus columnas"
   ]
  },
  {
   "cell_type": "code",
   "execution_count": null,
   "metadata": {},
   "outputs": [],
   "source": [
    "# Supongamos que tienes un DataFrame 'data' con tus datos\n",
    "# Asegúrate de estandarizar los datos (restar la media y dividir por la desviación estándar) si es necesario\n",
    "# Puedes usar sklearn.preprocessing.StandardScaler para esto\n",
    "\n",
    "pca = PCA(n_components=2)  # Elige el número de componentes principales a mantener\n",
    "\n",
    "# Ajusta el modelo PCA a tus datos\n",
    "pca.fit(ddf[selected_columns])\n",
    "\n",
    "# Transforma tus datos en las componentes principales\n",
    "principal_components = pca.transform(ddf[selected_columns])\n",
    "\n",
    "# Convierte las componentes principales en un DataFrame de pandas\n",
    "principal_df = principal_components.compute()\n"
   ]
  },
  {
   "cell_type": "code",
   "execution_count": null,
   "metadata": {},
   "outputs": [],
   "source": [
    "# Trama el gráfico de dispersión\n",
    "plt.figure(figsize=(10, 6))\n",
    "sns.scatterplot(x='component_1', y='component_2', data=principal_df)\n",
    "plt.xlabel('Componente Principal 1')\n",
    "plt.ylabel('Componente Principal 2')\n",
    "plt.title('Gráfico PCA')\n",
    "plt.show()"
   ]
  }
 ],
 "metadata": {
  "language_info": {
   "name": "python"
  }
 },
 "nbformat": 4,
 "nbformat_minor": 2
}
