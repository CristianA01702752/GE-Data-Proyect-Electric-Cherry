{
 "cells": [
  {
   "cell_type": "code",
   "execution_count": null,
   "metadata": {},
   "outputs": [],
   "source": [
    "#!pip install xgboost\n",
    "#!pip install joblib\n",
    "#!pip install imbalanced-learn\n",
    "#!pip install dask_ml\n",
    "#!pip install imblearn"
   ]
  },
  {
   "cell_type": "markdown",
   "metadata": {},
   "source": [
    "## 737 csv DataFrame"
   ]
  },
  {
   "cell_type": "code",
   "execution_count": 1,
   "metadata": {},
   "outputs": [
    {
     "name": "stdout",
     "output_type": "stream",
     "text": [
      "     col5_float  col7_float  col13_float  col15_float  col23_float  \\\n",
      "0   2954.401611  182.553223     0.290983    54.670597    13.929480   \n",
      "1  11083.237305  241.951767     0.446844    94.126999     3.682296   \n",
      "2  21999.474609  277.999725     0.629491    75.356895    -9.174471   \n",
      "3    947.695557  183.598831     0.282296    96.549637    17.686922   \n",
      "4  40999.910156  250.048431     0.840228    85.701920   -25.843906   \n",
      "5    123.967957    4.050034     0.005726    22.194834    14.759303   \n",
      "6  37988.152344  263.847961     0.828326    82.245430   -26.706100   \n",
      "7  32974.277344  295.597748     0.827762    83.356934   -19.731300   \n",
      "8  30859.298828  301.422607     0.807691    86.642220   -16.458363   \n",
      "9  40942.085938  247.580673     0.831864    99.329300   -26.451054   \n",
      "\n",
      "   col27_float  stableCruise_boolean  \n",
      "0    60.764046                   0.0  \n",
      "1     0.000008                   0.0  \n",
      "2    49.277233                   0.0  \n",
      "3     0.000008                   0.0  \n",
      "4     3.671783                   0.0  \n",
      "5   100.000000                   0.0  \n",
      "6    53.149078                   0.0  \n",
      "7    45.781822                   0.0  \n",
      "8     3.449036                   0.0  \n",
      "9     0.000008                   0.0  \n"
     ]
    }
   ],
   "source": [
    "import dask\n",
    "import dask.dataframe as dd\n",
    "import joblib\n",
    "import xgboost as xgb\n",
    "import pandas as pd\n",
    "from sklearn.model_selection import train_test_split\n",
    "from sklearn.linear_model import LogisticRegression\n",
    "from sklearn.metrics import accuracy_score, classification_report, confusion_matrix\n",
    "from imblearn.under_sampling import RandomUnderSampler\n",
    "\n",
    "\n",
    "def perform_tasks_with_dask(file_pattern, num_workers=16, threads_per_worker=12, use_gpu=True):\n",
    "    \"\"\"\n",
    "    Perform tasks using Dask, such as reading CSV files, configuring Dask, and printing the first 5 rows.\n",
    "\n",
    "    :param file_pattern: A file pattern to match CSV files.\n",
    "    :param num_workers: The number of Dask workers to use.\n",
    "    :param threads_per_worker: The number of threads per Dask worker.\n",
    "    :param use_gpu: Whether to use GPU for Dask computations.\n",
    "    :return: A Dask DataFrame containing the data.\n",
    "    \"\"\"\n",
    "    dask.config.set(scheduler='threads', num_workers=num_workers, threads_per_worker=threads_per_worker, use_gpu=use_gpu)\n",
    "\n",
    "    df = dd.read_csv(file_pattern, assume_missing=True, header=0)\n",
    "    df = df.reset_index()\n",
    "\n",
    "    # Specify the columns you want to keep\n",
    "    columns_to_keep = ['col5_float', 'col7_float', 'col13_float', 'col15_float', 'col23_float', 'col27_float', 'stableCruise_boolean'] \n",
    "    # Use square brackets to select and keep the specified columns\n",
    "    df_subset = df[columns_to_keep]\n",
    "    return df_subset\n",
    "    # numero_de_filas_exacto = len(df)\n",
    "    # print(\"Número de filas exacto:\", numero_de_filas_exacto)\n",
    "    \n",
    "def balance_dataset(df, target_column, random_state=42):\n",
    "    \"\"\"\n",
    "    Balance a Dask DataFrame to have equal class proportions for the target variable.\n",
    "\n",
    "    Args:\n",
    "        df (dask.dataframe.DataFrame): The DataFrame containing the data.\n",
    "        target_column (str): The name of the target column to be balanced.\n",
    "        random_state (int): Random seed for reproducibility.\n",
    "\n",
    "    Returns:\n",
    "        dask.dataframe.DataFrame: The balanced Dask DataFrame.\n",
    "    \"\"\"\n",
    "    X = df.drop(columns=[target_column])\n",
    "    y = df[target_column]\n",
    "\n",
    "    rus = RandomUnderSampler(sampling_strategy='majority', random_state=random_state)\n",
    "    X_resampled, y_resampled = rus.fit_resample(X.compute(), y.compute())\n",
    "\n",
    "    df_resampled = dd.from_pandas(pd.DataFrame(data=X_resampled, columns=X.columns), npartitions=1)\n",
    "    df_resampled[target_column] = y_resampled\n",
    "\n",
    "    return df_resampled\n",
    "\n",
    "if __name__ == \"__main__\":\n",
    "    #file_pattern = \"../../Data/TMP_Data/*.csv\"\n",
    "    file_pattern = \"../../Data/EC_Data/*.csv\"\n",
    "    df = perform_tasks_with_dask(file_pattern)\n",
    "    df_balanced = balance_dataset(df, 'stableCruise_boolean')\n",
    "    print(df_balanced.compute().head(10))\n",
    "\n"
   ]
  },
  {
   "cell_type": "code",
   "execution_count": 2,
   "metadata": {},
   "outputs": [],
   "source": [
    "# Define the independent variables (X) and the dependent variable (y)\n",
    "X = df_balanced.compute()[['col5_float', 'col7_float', 'col13_float', 'col15_float', 'col23_float', 'col27_float']]\n",
    "y = df_balanced.compute()['stableCruise_boolean']"
   ]
  },
  {
   "cell_type": "markdown",
   "metadata": {},
   "source": [
    "## L2 Hiperparam "
   ]
  },
  {
   "cell_type": "code",
   "execution_count": null,
   "metadata": {},
   "outputs": [],
   "source": [
    "import dask\n",
    "import dask.dataframe as dd\n",
    "from sklearn.model_selection import GridSearchCV\n",
    "from sklearn.linear_model import LogisticRegression\n",
    "from sklearn.preprocessing import StandardScaler\n",
    "from imblearn.over_sampling import SMOTE\n",
    "from sklearn.model_selection import train_test_split"
   ]
  },
  {
   "cell_type": "code",
   "execution_count": null,
   "metadata": {},
   "outputs": [],
   "source": [
    "X_train, X_test, y_train, y_test = train_test_split(X, y, test_size=0.2, random_state=42)"
   ]
  },
  {
   "cell_type": "code",
   "execution_count": null,
   "metadata": {},
   "outputs": [],
   "source": [
    "#smote = SMOTE(random_state=42)\n",
    "#X_train_resampled, y_train_resampled = smote.fit_resample(X_train, y_train)"
   ]
  },
  {
   "cell_type": "code",
   "execution_count": null,
   "metadata": {},
   "outputs": [],
   "source": [
    "scaler = StandardScaler()\n",
    "X_train = scaler.fit_transform(X_train)\n",
    "X_test = scaler.transform(X_test)"
   ]
  },
  {
   "cell_type": "code",
   "execution_count": 6,
   "metadata": {},
   "outputs": [
    {
     "data": {
      "text/plain": [
       "GridSearchCV(cv=3, estimator=LogisticRegression(),\n",
       "             param_grid={'C': [0.001, 0.01, 0.1, 0.25, 0.5, 1],\n",
       "                         'penalty': ['l2']})"
      ]
     },
     "execution_count": 6,
     "metadata": {},
     "output_type": "execute_result"
    }
   ],
   "source": [
    "param_grid = {\n",
    "    'penalty': ['l2'],\n",
    "    'C': [0.001, 0.01, 0.1, 0.25, 0.5, 1]\n",
    "}\n",
    " \n",
    "grid_search = GridSearchCV(LogisticRegression(), param_grid, cv=3)\n",
    "grid_search.fit(X_train, y_train)"
   ]
  },
  {
   "cell_type": "code",
   "execution_count": 7,
   "metadata": {},
   "outputs": [
    {
     "name": "stdout",
     "output_type": "stream",
     "text": [
      "Mejores hiperparámetros: {'C': 0.1, 'penalty': 'l2'}\n",
      "Puntuación de precisión en el conjunto de prueba: 0.7177335226775607\n"
     ]
    }
   ],
   "source": [
    "best_params = grid_search.best_params_\n",
    "best_model = grid_search.best_estimator_\n",
    "y_pred = best_model.predict(X_test)\n",
    "accuracy = accuracy_score(y_test, y_pred)\n",
    "print(f\"Mejores hiperparámetros: {best_params}\")\n",
    "print(f\"Puntuación de precisión en el conjunto de prueba: {accuracy}\")"
   ]
  },
  {
   "cell_type": "markdown",
   "metadata": {},
   "source": [
    "## VIF"
   ]
  },
  {
   "cell_type": "code",
   "execution_count": 19,
   "metadata": {},
   "outputs": [
    {
     "name": "stdout",
     "output_type": "stream",
     "text": [
      "      Variable       VIF\n",
      "0  col23_float  2.186432\n",
      "1  col27_float  1.932445\n",
      "2   col7_float  2.881075\n"
     ]
    }
   ],
   "source": [
    "#X2 = X.drop('col7_float', axis=1)\n",
    "#X3 = X2.drop('col17_float', axis=1)\n",
    "# Calculate VIF using variance_inflation_factor\n",
    "#vif_data = pd.DataFrame()\n",
    "#vif_data[\"Variable\"] = X3.columns\n",
    "#vif_data[\"VIF\"] = [variance_inflation_factor(X3.values, i) for i in range(X3.shape[1])]\n",
    "\n",
    "# Filter the VIF results for the features (exclude 'const')\n",
    "#vif_results = vif_data[vif_data[\"Variable\"] != 'const']\n",
    "\n",
    "# Print the VIF results\n",
    "#print(vif_results)"
   ]
  },
  {
   "cell_type": "markdown",
   "metadata": {},
   "source": [
    "## PCA"
   ]
  },
  {
   "cell_type": "code",
   "execution_count": 3,
   "metadata": {},
   "outputs": [
    {
     "data": {
      "image/png": "[encoded data removed]",
      "text/plain": [
       "<Figure size 576x432 with 1 Axes>"
      ]
     },
     "metadata": {
      "needs_background": "light"
     },
     "output_type": "display_data"
    }
   ],
   "source": [
    "import dask.dataframe as dd\n",
    "import pandas as pd\n",
    "import matplotlib.pyplot as plt\n",
    "from sklearn.decomposition import PCA\n",
    "from sklearn.preprocessing import StandardScaler \n",
    "\n",
    "scaler = StandardScaler() \n",
    "scaled_data = scaler.fit_transform(X) \n",
    "# Realiza el PCA\n",
    "pca = PCA() \n",
    "pca_result = pca.fit_transform(scaled_data) \n",
    "# Gráfico de dispersión de las dos primeras componentes principales\n",
    "plt.figure(figsize=(8, 6)) \n",
    "plt.scatter(pca_result[:, 0], pca_result[:, 1], alpha=0.5) \n",
    "plt.xlabel(\"Primera Componente Principal\") \n",
    "plt.ylabel(\"Segunda Componente Principal\") \n",
    "plt.title(\"PCA de las Variables Seleccionadas\") \n",
    "plt.grid() \n",
    "plt.show()"
   ]
  },
  {
   "cell_type": "markdown",
   "metadata": {},
   "source": [
    "## Data Scaling"
   ]
  },
  {
   "cell_type": "code",
   "execution_count": 3,
   "metadata": {},
   "outputs": [],
   "source": [
    "from sklearn.preprocessing import StandardScaler \n",
    "\n",
    "scaler = StandardScaler() \n",
    "X_scaled_data = scaler.fit_transform(X) "
   ]
  },
  {
   "cell_type": "markdown",
   "metadata": {},
   "source": [
    "## Winsorization for outliers"
   ]
  },
  {
   "cell_type": "code",
   "execution_count": 3,
   "metadata": {},
   "outputs": [],
   "source": [
    "def winsorize_variable(data, variable, new_column_name, lower_percentile=0.01, upper_percentile=0.99):\n",
    "    \"\"\"\n",
    "    Realiza la winsorización de una variable en un conjunto de datos y la almacena en una nueva columna.\n",
    "\n",
    "    Args:\n",
    "        data (pd.DataFrame): El DataFrame que contiene los datos.\n",
    "        variable (str): El nombre de la variable que se va a winsorizar.\n",
    "        new_column_name (str): El nombre para la nueva columna que almacenará los datos winsorizados (si no se proporciona, se usará el nombre de la variable original con \"_winsorized\").\n",
    "        lower_percentile (float): Percentil inferior para la winsorización (valor predeterminado es 0.01).\n",
    "        upper_percentile (float): Percentil superior para la winsorización (valor predeterminado es 0.99).\n",
    "    \"\"\"\n",
    "    if new_column_name is None:\n",
    "        new_column_name = variable + \"_winsorized\"\n",
    "\n",
    "    lower_limit = data[variable].quantile(lower_percentile)\n",
    "    upper_limit = data[variable].quantile(upper_percentile)\n",
    "\n",
    "    data[new_column_name] = data[variable].clip(lower_limit, upper_limit)"
   ]
  },
  {
   "cell_type": "code",
   "execution_count": 4,
   "metadata": {},
   "outputs": [],
   "source": [
    "winsorize_variable(X, \"col7_float\", \"wzcol7_float\")"
   ]
  },
  {
   "cell_type": "code",
   "execution_count": 8,
   "metadata": {},
   "outputs": [
    {
     "data": {
      "text/plain": [
       "array([[-1.4617446 , -2.079246  ,  0.09946134, -2.10039577,  1.3489583 ,\n",
       "         1.34586595],\n",
       "       [-1.3444048 , -2.079246  , -1.73518873, -1.6131454 ,  1.1443291 ,\n",
       "         1.32147492],\n",
       "       [-1.3444048 , -2.079246  , -1.73518873, -1.6131454 ,  1.1443291 ,\n",
       "         1.32147492],\n",
       "       ...,\n",
       "       [-1.47620579, -2.05609925, -1.8153072 , -1.60124253,  1.37497104,\n",
       "         1.32147492],\n",
       "       [-1.4761975 , -2.05169584, -1.8130923 , -1.60124294,  1.37498067,\n",
       "         1.32147492],\n",
       "       [-1.4761975 , -2.05169584, -1.8130923 , -1.60124328,  1.37498067,\n",
       "         1.32147492]])"
      ]
     },
     "execution_count": 8,
     "metadata": {},
     "output_type": "execute_result"
    }
   ],
   "source": [
    "X_scaled_data\n"
   ]
  },
  {
   "cell_type": "code",
   "execution_count": 5,
   "metadata": {},
   "outputs": [],
   "source": [
    "X2 = X.drop('col7_float', axis=1)"
   ]
  },
  {
   "cell_type": "code",
   "execution_count": 6,
   "metadata": {},
   "outputs": [],
   "source": [
    "# Split the data into training, testing, and validation sets\n",
    "X_train, X_temp, y_train, y_temp = train_test_split(X2, y, test_size=0.2, random_state=42)\n",
    "X_test, X_val, y_test, y_val = train_test_split(X_temp, y_temp, test_size=0.5, random_state=42)"
   ]
  },
  {
   "cell_type": "markdown",
   "metadata": {},
   "source": [
    "## MODELO 1 (Logistic)"
   ]
  },
  {
   "cell_type": "code",
   "execution_count": 7,
   "metadata": {},
   "outputs": [
    {
     "data": {
      "text/plain": [
       "LogisticRegression(C=0.1)"
      ]
     },
     "execution_count": 7,
     "metadata": {},
     "output_type": "execute_result"
    }
   ],
   "source": [
    "from sklearn.linear_model import LogisticRegression\n",
    "from imblearn.over_sampling import SMOTE\n",
    "from imblearn.pipeline import Pipeline\n",
    "from sklearn.metrics import classification_report, confusion_matrix, accuracy_score\n",
    "\n",
    "# Initialize the logistic regression model\n",
    "model = LogisticRegression(penalty='l2', C=0.1)\n",
    "#model = LogisticRegression()\n",
    "\n",
    "# Create a pipeline with SMOTE for oversampling\n",
    "#over_sampling = SMOTE(sampling_strategy=0.7)   # Adjust sampling_strategy as needed\n",
    "#pipeline = Pipeline(steps=[('oversample', over_sampling), ('model', model)])\n",
    "\n",
    "# Train the model on the training set using the pipeline\n",
    "model.fit(X_train, y_train)"
   ]
  },
  {
   "cell_type": "code",
   "execution_count": 14,
   "metadata": {},
   "outputs": [
    {
     "name": "stdout",
     "output_type": "stream",
     "text": [
      "Model saved to  L2_Undersamplin_logistic_7var_model2.pkl\n"
     ]
    }
   ],
   "source": [
    "import joblib\n",
    "model_filename = 'L2_Undersamplin_logistic_7var_model2.pkl'\n",
    "joblib.dump(model, model_filename)\n",
    "\n",
    "print(\"Model saved to \", model_filename)"
   ]
  },
  {
   "cell_type": "code",
   "execution_count": null,
   "metadata": {},
   "outputs": [],
   "source": [
    "#import joblib\n",
    "#model_filename = 'L2_logistic_7var_model.pkl'\n",
    "#loaded_model1 = joblib.load(model_filename)"
   ]
  },
  {
   "cell_type": "code",
   "execution_count": 8,
   "metadata": {},
   "outputs": [
    {
     "name": "stdout",
     "output_type": "stream",
     "text": [
      "Model accuracy on the training set: 0.7130932530635389\n",
      "Model accuracy on the test set: 0.7121320213754021\n",
      "\n",
      "Model accuracy on the validation set: 0.7125851195251967\n",
      "Confusion Matrix for the test set:\n",
      "[[23348 13489]\n",
      " [ 7897 29557]]\n",
      "\n",
      "Classification Report for the test set:\n",
      "              precision    recall  f1-score   support\n",
      "\n",
      "         0.0       0.75      0.63      0.69     36837\n",
      "         1.0       0.69      0.79      0.73     37454\n",
      "\n",
      "    accuracy                           0.71     74291\n",
      "   macro avg       0.72      0.71      0.71     74291\n",
      "weighted avg       0.72      0.71      0.71     74291\n",
      "\n"
     ]
    }
   ],
   "source": [
    "from sklearn.model_selection import cross_val_score\n",
    "\n",
    "# Make predictions on the training set\n",
    "y_pred_train = model.predict(X_train)\n",
    "\n",
    "# Calculate the accuracy of the model on the training set\n",
    "accuracy_train = accuracy_score(y_train, y_pred_train)\n",
    "\n",
    "# Print the accuracy on the training set\n",
    "print(\"Model accuracy on the training set:\", accuracy_train)\n",
    "\n",
    "# Make predictions on the test set\n",
    "y_pred_test = model.predict(X_test)\n",
    "\n",
    "# Calculate the accuracy of the model on the test set\n",
    "accuracy_test = accuracy_score(y_test, y_pred_test)\n",
    "\n",
    "# Print the accuracy on the test set\n",
    "print(\"Model accuracy on the test set:\", accuracy_test)\n",
    "\n",
    "# Make predictions on the validation set (if available)\n",
    "#y_pred_val = model.predict(X_val)\n",
    "\n",
    "# Calculate the accuracy of the model on the validation set\n",
    "#accuracy_val = accuracy_score(y_val, y_pred_val)\n",
    "\n",
    "# Cross_val\n",
    "Cross_val = abs(cross_val_score(LogisticRegression(), X_train, y_train, cv=5, scoring=\"accuracy\").mean())\n",
    "\n",
    "# Print the accuracy on the validation set\n",
    "#print(\"\\nModel accuracy on the validation set:\", accuracy_val)\n",
    "print(\"\\nModel accuracy on the validation set:\", Cross_val)\n",
    "\n",
    "# Display the confusion matrix and classification report for the test set\n",
    "conf_matrix = confusion_matrix(y_test, y_pred_test)\n",
    "class_report = classification_report(y_test, y_pred_test)\n",
    "\n",
    "print('Confusion Matrix for the test set:')\n",
    "print(conf_matrix)\n",
    "print('\\nClassification Report for the test set:')\n",
    "print(class_report)"
   ]
  },
  {
   "cell_type": "markdown",
   "metadata": {},
   "source": [
    "## Modelo 2 (XGBoost)"
   ]
  },
  {
   "cell_type": "code",
   "execution_count": 9,
   "metadata": {},
   "outputs": [
    {
     "name": "stderr",
     "output_type": "stream",
     "text": [
      "c:\\DSA-Apps\\Anaconda3\\v3_9_7_x64\\Local\\lib\\site-packages\\xgboost\\sklearn.py:888: UserWarning: The use of label encoder in XGBClassifier is deprecated and will be removed in a future release. To remove this warning, do the following: 1) Pass option use_label_encoder=False when constructing XGBClassifier object; and 2) Encode your labels (y) as integers starting with 0, i.e. 0, 1, 2, ..., [num_class - 1].\n",
      "  warnings.warn(label_encoder_deprecation_msg, UserWarning)\n"
     ]
    },
    {
     "name": "stdout",
     "output_type": "stream",
     "text": [
      "[10:20:45] WARNING: C:/Users/Administrator/workspace/xgboost-win64_release_1.3.0/src/learner.cc:1061: Starting in XGBoost 1.3.0, the default evaluation metric used with the objective 'binary:logistic' was changed from 'error' to 'logloss'. Explicitly set eval_metric if you'd like to restore the old behavior.\n"
     ]
    },
    {
     "data": {
      "text/plain": [
       "XGBClassifier(base_score=0.5, booster='gbtree', colsample_bylevel=1,\n",
       "              colsample_bynode=1, colsample_bytree=1, gamma=0, gpu_id=-1,\n",
       "              importance_type='gain', interaction_constraints='',\n",
       "              learning_rate=0.300000012, max_delta_step=0, max_depth=6,\n",
       "              min_child_weight=1, missing=nan, monotone_constraints='()',\n",
       "              n_estimators=100, n_jobs=20, num_parallel_tree=1, random_state=0,\n",
       "              reg_alpha=0, reg_lambda=0.1, scale_pos_weight=1, subsample=1,\n",
       "              tree_method='exact', validate_parameters=1, verbosity=None)"
      ]
     },
     "execution_count": 9,
     "metadata": {},
     "output_type": "execute_result"
    }
   ],
   "source": [
    "import xgboost as xgb\n",
    "from imblearn.over_sampling import SMOTE\n",
    "from imblearn.pipeline import Pipeline\n",
    "from sklearn.metrics import classification_report, confusion_matrix, accuracy_score\n",
    "\n",
    "\n",
    "# Create an XGBoost classifier\n",
    "model2 = xgb.XGBClassifier(reg_lambda=0.1)\n",
    "#model2 = xgb.XGBClassifier()\n",
    "\n",
    "# Create a pipeline with SMOTE for oversampling\n",
    "#over_sampling = SMOTE(sampling_strategy=0.7)   # Adjust sampling_strategy as needed\n",
    "#pipeline = Pipeline(steps=[('oversample', over_sampling), ('model2', model2)])\n",
    "\n",
    "# Train the model on the training set using the pipeline\n",
    "model2.fit(X_train, y_train)\n"
   ]
  },
  {
   "cell_type": "code",
   "execution_count": 17,
   "metadata": {},
   "outputs": [
    {
     "name": "stdout",
     "output_type": "stream",
     "text": [
      "Model saved to  L2_Undersamplin_xgboost_7var_model2.pkl\n"
     ]
    }
   ],
   "source": [
    "import joblib\n",
    "model_filename = 'L2_Undersamplin_xgboost_7var_model2.pkl'\n",
    "joblib.dump(model2, model_filename)\n",
    "\n",
    "print(\"Model saved to \", model_filename)"
   ]
  },
  {
   "cell_type": "code",
   "execution_count": null,
   "metadata": {},
   "outputs": [],
   "source": [
    "#import joblib\n",
    "#model_filename = 'xgboost_7var_model.pkl'\n",
    "#pipeline = joblib.load(model_filename)"
   ]
  },
  {
   "cell_type": "code",
   "execution_count": 10,
   "metadata": {},
   "outputs": [
    {
     "name": "stdout",
     "output_type": "stream",
     "text": [
      "Training set accuracy: 0.9442413208845606\n",
      "Test set accuracy: 0.9420791212932926\n"
     ]
    },
    {
     "name": "stderr",
     "output_type": "stream",
     "text": [
      "c:\\DSA-Apps\\Anaconda3\\v3_9_7_x64\\Local\\lib\\site-packages\\xgboost\\sklearn.py:888: UserWarning: The use of label encoder in XGBClassifier is deprecated and will be removed in a future release. To remove this warning, do the following: 1) Pass option use_label_encoder=False when constructing XGBClassifier object; and 2) Encode your labels (y) as integers starting with 0, i.e. 0, 1, 2, ..., [num_class - 1].\n",
      "  warnings.warn(label_encoder_deprecation_msg, UserWarning)\n",
      "c:\\DSA-Apps\\Anaconda3\\v3_9_7_x64\\Local\\lib\\site-packages\\xgboost\\sklearn.py:888: UserWarning: The use of label encoder in XGBClassifier is deprecated and will be removed in a future release. To remove this warning, do the following: 1) Pass option use_label_encoder=False when constructing XGBClassifier object; and 2) Encode your labels (y) as integers starting with 0, i.e. 0, 1, 2, ..., [num_class - 1].\n",
      "  warnings.warn(label_encoder_deprecation_msg, UserWarning)\n",
      "c:\\DSA-Apps\\Anaconda3\\v3_9_7_x64\\Local\\lib\\site-packages\\xgboost\\sklearn.py:888: UserWarning: The use of label encoder in XGBClassifier is deprecated and will be removed in a future release. To remove this warning, do the following: 1) Pass option use_label_encoder=False when constructing XGBClassifier object; and 2) Encode your labels (y) as integers starting with 0, i.e. 0, 1, 2, ..., [num_class - 1].\n",
      "  warnings.warn(label_encoder_deprecation_msg, UserWarning)\n",
      "c:\\DSA-Apps\\Anaconda3\\v3_9_7_x64\\Local\\lib\\site-packages\\xgboost\\sklearn.py:888: UserWarning: The use of label encoder in XGBClassifier is deprecated and will be removed in a future release. To remove this warning, do the following: 1) Pass option use_label_encoder=False when constructing XGBClassifier object; and 2) Encode your labels (y) as integers starting with 0, i.e. 0, 1, 2, ..., [num_class - 1].\n",
      "  warnings.warn(label_encoder_deprecation_msg, UserWarning)\n",
      "c:\\DSA-Apps\\Anaconda3\\v3_9_7_x64\\Local\\lib\\site-packages\\xgboost\\sklearn.py:888: UserWarning: The use of label encoder in XGBClassifier is deprecated and will be removed in a future release. To remove this warning, do the following: 1) Pass option use_label_encoder=False when constructing XGBClassifier object; and 2) Encode your labels (y) as integers starting with 0, i.e. 0, 1, 2, ..., [num_class - 1].\n",
      "  warnings.warn(label_encoder_deprecation_msg, UserWarning)\n"
     ]
    },
    {
     "name": "stdout",
     "output_type": "stream",
     "text": [
      "\n",
      "Validation set accuracy: 0.9391178965570184\n",
      "Confusion Matrix for the test set:\n",
      "[[32972  3865]\n",
      " [  438 37016]]\n",
      "\n",
      "Classification Report for the test set:\n",
      "              precision    recall  f1-score   support\n",
      "\n",
      "         0.0       0.99      0.90      0.94     36837\n",
      "         1.0       0.91      0.99      0.95     37454\n",
      "\n",
      "    accuracy                           0.94     74291\n",
      "   macro avg       0.95      0.94      0.94     74291\n",
      "weighted avg       0.95      0.94      0.94     74291\n",
      "\n"
     ]
    }
   ],
   "source": [
    "# Make predictions on the training set\n",
    "y_pred_train = model2.predict(X_train)\n",
    "\n",
    "# Calculate the training set accuracy\n",
    "accuracy_train = accuracy_score(y_train, y_pred_train)\n",
    "\n",
    "# Print the training set accuracy\n",
    "print(\"Training set accuracy:\", accuracy_train)\n",
    "\n",
    "# Make predictions on the test set\n",
    "y_pred_test = model2.predict(X_test)\n",
    "\n",
    "# Calculate the test set accuracy\n",
    "accuracy_test = accuracy_score(y_test, y_pred_test)\n",
    "\n",
    "# Print the test set accuracy\n",
    "print(\"Test set accuracy:\", accuracy_test)\n",
    "\n",
    "# Make predictions on the validation set (if available)\n",
    "#y_pred_val = model2.predict(X_val)\n",
    "\n",
    "# Calculate the validation set accuracy\n",
    "#accuracy_val = accuracy_score(y_val, y_pred_val)\n",
    "\n",
    "# Cross validation\n",
    "params = {     \n",
    "    'objective': 'binary:logistic',     \n",
    "    'eval_metric': 'logloss'} \n",
    "\n",
    "cross_val = abs(cross_val_score(xgb.XGBClassifier(**params), X_train, y_train, cv=5, scoring=\"accuracy\").mean())\n",
    "# Print the validation set accuracy\n",
    "#print(\"\\nValidation set accuracy:\", accuracy_val)\n",
    "print(\"\\nValidation set accuracy:\", cross_val)\n",
    "\n",
    "\n",
    "# Display the confusion matrix and classification report for the test set\n",
    "conf_matrix = confusion_matrix(y_test, y_pred_test)\n",
    "class_report = classification_report(y_test, y_pred_test)\n",
    "\n",
    "print('Confusion Matrix for the test set:')\n",
    "print(conf_matrix)\n",
    "print('\\nClassification Report for the test set:')\n",
    "print(class_report)"
   ]
  },
  {
   "cell_type": "markdown",
   "metadata": {},
   "source": [
    "## Modelo 3 (Deep Learning)"
   ]
  },
  {
   "cell_type": "code",
   "execution_count": 32,
   "metadata": {},
   "outputs": [
    {
     "name": "stdout",
     "output_type": "stream",
     "text": [
      "Epoch 1/25\n",
      "18572/18572 [==============================] - 16s 829us/step - loss: 12.2007 - accuracy: 0.6311 - val_loss: 0.9643 - val_accuracy: 0.6949\n",
      "Epoch 2/25\n",
      "18572/18572 [==============================] - 15s 826us/step - loss: 0.9270 - accuracy: 0.6571 - val_loss: 0.5932 - val_accuracy: 0.6865\n",
      "Epoch 3/25\n",
      "18572/18572 [==============================] - 15s 781us/step - loss: 0.5572 - accuracy: 0.6944 - val_loss: 0.5174 - val_accuracy: 0.6978\n",
      "Epoch 4/25\n",
      "18572/18572 [==============================] - 15s 782us/step - loss: 0.5380 - accuracy: 0.6962 - val_loss: 0.5331 - val_accuracy: 0.6980\n",
      "Epoch 5/25\n",
      "18572/18572 [==============================] - 16s 857us/step - loss: 0.5371 - accuracy: 0.6964 - val_loss: 0.5352 - val_accuracy: 0.6974\n",
      "Epoch 6/25\n",
      "18572/18572 [==============================] - 15s 781us/step - loss: 0.5378 - accuracy: 0.6962 - val_loss: 0.5381 - val_accuracy: 0.6973\n",
      "Epoch 7/25\n",
      "18572/18572 [==============================] - 15s 781us/step - loss: 0.5373 - accuracy: 0.6962 - val_loss: 0.5395 - val_accuracy: 0.6974\n",
      "Epoch 8/25\n",
      "18572/18572 [==============================] - 16s 856us/step - loss: 0.5381 - accuracy: 0.6964 - val_loss: 0.5360 - val_accuracy: 0.6979\n",
      "Epoch 9/25\n",
      "18572/18572 [==============================] - 16s 866us/step - loss: 0.5348 - accuracy: 0.6964 - val_loss: 0.5359 - val_accuracy: 0.6974\n",
      "Epoch 10/25\n",
      "18572/18572 [==============================] - 15s 788us/step - loss: 0.5350 - accuracy: 0.6964 - val_loss: 0.8481 - val_accuracy: 0.6972\n",
      "Epoch 11/25\n",
      "18572/18572 [==============================] - 15s 788us/step - loss: 0.5313 - accuracy: 0.6965 - val_loss: 0.5303 - val_accuracy: 0.6977\n",
      "Epoch 12/25\n",
      "18572/18572 [==============================] - 15s 786us/step - loss: 0.5257 - accuracy: 0.6982 - val_loss: 0.5191 - val_accuracy: 0.6964\n",
      "Epoch 13/25\n",
      "18572/18572 [==============================] - 14s 777us/step - loss: 0.5316 - accuracy: 0.6977 - val_loss: 0.5341 - val_accuracy: 0.6959\n",
      "Epoch 14/25\n",
      "18572/18572 [==============================] - 14s 779us/step - loss: 0.5324 - accuracy: 0.6968 - val_loss: 0.5202 - val_accuracy: 0.6964\n",
      "Epoch 15/25\n",
      "18572/18572 [==============================] - 16s 855us/step - loss: 0.5319 - accuracy: 0.6967 - val_loss: 0.5164 - val_accuracy: 0.6966\n",
      "Epoch 16/25\n",
      "18572/18572 [==============================] - 16s 861us/step - loss: 0.5217 - accuracy: 0.6993 - val_loss: 0.5249 - val_accuracy: 0.6977\n",
      "Epoch 17/25\n",
      "18572/18572 [==============================] - 15s 785us/step - loss: 0.5237 - accuracy: 0.7002 - val_loss: 0.5128 - val_accuracy: 0.6980\n",
      "Epoch 18/25\n",
      "18572/18572 [==============================] - 15s 781us/step - loss: 0.5211 - accuracy: 0.7008 - val_loss: 0.5272 - val_accuracy: 0.6961\n",
      "Epoch 19/25\n",
      "18572/18572 [==============================] - 15s 784us/step - loss: 0.5206 - accuracy: 0.7016 - val_loss: 0.5246 - val_accuracy: 0.7100\n",
      "Epoch 20/25\n",
      "18572/18572 [==============================] - 18s 968us/step - loss: 0.5238 - accuracy: 0.7011 - val_loss: 0.5219 - val_accuracy: 0.6974\n",
      "Epoch 21/25\n",
      "18572/18572 [==============================] - 16s 856us/step - loss: 0.5244 - accuracy: 0.6991 - val_loss: 0.5248 - val_accuracy: 0.6963\n",
      "Epoch 22/25\n",
      "18572/18572 [==============================] - 19s 1ms/step - loss: 0.5195 - accuracy: 0.7021 - val_loss: 0.5200 - val_accuracy: 0.7114\n",
      "Epoch 23/25\n",
      "18572/18572 [==============================] - 20s 1ms/step - loss: 0.5187 - accuracy: 0.7035 - val_loss: 0.5260 - val_accuracy: 0.7118\n",
      "Epoch 24/25\n",
      "18572/18572 [==============================] - 19s 1ms/step - loss: 0.5165 - accuracy: 0.7045 - val_loss: 0.5182 - val_accuracy: 0.6956\n",
      "Epoch 25/25\n",
      "18572/18572 [==============================] - 14s 781us/step - loss: 0.5193 - accuracy: 0.7043 - val_loss: 0.5257 - val_accuracy: 0.7114\n"
     ]
    }
   ],
   "source": [
    "import tensorflow as tf\n",
    "from sklearn.metrics import classification_report, confusion_matrix, accuracy_score\n",
    "from imblearn.over_sampling import SMOTE\n",
    "from sklearn.pipeline import Pipeline \n",
    "from tensorflow.keras import regularizers\n",
    "\n",
    "\n",
    "# Apply SMOTE to the training data\n",
    "#smote = SMOTE(sampling_strategy=0.5)  # Adjust the sampling_strategy as needed\n",
    "#X_train_resampled, y_train_resampled = smote.fit_resample(X_train, y_train) \n",
    "\n",
    "# Convert NumPy arrays to TensorFlow dataset\n",
    "train_dataset = tf.data.Dataset.from_tensor_slices((X_train, y_train)) \n",
    "val_dataset = tf.data.Dataset.from_tensor_slices((X_val, y_val)) \n",
    "# Apply repeat() to the training dataset\n",
    "train_dataset = train_dataset.repeat()\n",
    "\n",
    "# Define a deep learning model using TensorFlow/Keras\n",
    "#model3 = tf.keras.Sequential([     \n",
    "   # tf.keras.layers.Dense(128, activation='relu', input_shape=(X_train.shape[1],)),     \n",
    "   # tf.keras.layers.Dense(64, activation='relu'),     \n",
    "   # tf.keras.layers.Dense(1, activation='sigmoid') \n",
    "#]) \n",
    "# Define a deep learning model using L2 Regularization\n",
    "model3 = tf.keras.Sequential([     \n",
    "    tf.keras.layers.Dense(128, activation='relu', input_shape=(X_train.shape[1],), kernel_regularizer=regularizers.l2(0.1)),\n",
    "    tf.keras.layers.Dense(64, activation='relu', kernel_regularizer=regularizers.l2(0.1)),\n",
    "    tf.keras.layers.Dense(1, activation='sigmoid') ])\n",
    "# Compile the model\n",
    "model3.compile(optimizer='adam', loss='binary_crossentropy', metrics=['accuracy']) \n",
    "# Define the number of steps per epoch\n",
    "batch_size = 32\n",
    "steps_per_epoch = len(X_train) // batch_size \n",
    "# Train the model on the resampled training set\n",
    "history = model3.fit(train_dataset.batch(batch_size), epochs=25, steps_per_epoch=steps_per_epoch, validation_data=val_dataset.batch(batch_size))\n"
   ]
  },
  {
   "cell_type": "code",
   "execution_count": 33,
   "metadata": {},
   "outputs": [],
   "source": [
    "model3.save('deepLearning_undersampling_model2.keras')"
   ]
  },
  {
   "cell_type": "code",
   "execution_count": 34,
   "metadata": {},
   "outputs": [],
   "source": [
    "train_acc = history.history['accuracy']\n",
    "val_acc = history.history['val_accuracy']\n",
    "train_loss = history.history['loss']\n",
    "val_loss = history.history['val_loss']"
   ]
  },
  {
   "cell_type": "code",
   "execution_count": 35,
   "metadata": {},
   "outputs": [],
   "source": [
    "epochs = range(1, len(train_acc)+1)"
   ]
  },
  {
   "cell_type": "code",
   "execution_count": 36,
   "metadata": {},
   "outputs": [
    {
     "data": {
      "image/png": "[encoded data removed]",
      "text/plain": [
       "<Figure size 432x288 with 1 Axes>"
      ]
     },
     "metadata": {
      "needs_background": "light"
     },
     "output_type": "display_data"
    },
    {
     "data": {
      "image/png": "[encoded data removed]",
      "text/plain": [
       "<Figure size 432x288 with 1 Axes>"
      ]
     },
     "metadata": {
      "needs_background": "light"
     },
     "output_type": "display_data"
    }
   ],
   "source": [
    "import matplotlib.pyplot as plt\n",
    "plt.plot(epochs,train_acc,'tab:red',label='train accuracy')\n",
    "plt.plot(epochs,val_acc, 'tab:green', label='validation accuracy')\n",
    "plt.title('train acc vs val acc')\n",
    "plt.legend()\n",
    "\n",
    "plt.figure()\n",
    "\n",
    "plt.plot(epochs,train_loss, 'tab:red', label ='train loss')\n",
    "plt.plot(epochs,val_loss, 'tab:green', label = 'validation loss')\n",
    "plt.title('train loss vs val loss')\n",
    "plt.legend()\n",
    "\n",
    "plt.show()"
   ]
  },
  {
   "cell_type": "code",
   "execution_count": null,
   "metadata": {},
   "outputs": [],
   "source": [
    "from keras.models import load_model\n",
    "model_D = load_model('deepLearning_model.keras')"
   ]
  },
  {
   "cell_type": "code",
   "execution_count": 37,
   "metadata": {},
   "outputs": [
    {
     "name": "stdout",
     "output_type": "stream",
     "text": [
      "Confusion Matrix for the test set:\n",
      "[[18414 18423]\n",
      " [ 2777 34677]]\n",
      "\n",
      "Classification Report for the test set:\n",
      "              precision    recall  f1-score   support\n",
      "\n",
      "         0.0       0.87      0.50      0.63     36837\n",
      "         1.0       0.65      0.93      0.77     37454\n",
      "\n",
      "    accuracy                           0.71     74291\n",
      "   macro avg       0.76      0.71      0.70     74291\n",
      "weighted avg       0.76      0.71      0.70     74291\n",
      "\n",
      "Accuracy for the test set: 0.71463568938364\n"
     ]
    }
   ],
   "source": [
    "# Make predictions on the test set\n",
    "y_pred_test = (model_D.predict(X_test) > 0.5).astype(int)\n",
    "\n",
    "# Calculate the accuracy of the model on the test set\n",
    "accuracy_test = accuracy_score(y_test, y_pred_test)\n",
    "\n",
    "# Display the confusion matrix and classification report for the test set\n",
    "conf_matrix = confusion_matrix(y_test, y_pred_test)\n",
    "class_report = classification_report(y_test, y_pred_test)\n",
    "\n",
    "print('Confusion Matrix for the test set:')\n",
    "print(conf_matrix)\n",
    "print('\\nClassification Report for the test set:')\n",
    "print(class_report)\n",
    "\n",
    "print('Accuracy for the test set:', accuracy_test)"
   ]
  },
  {
   "cell_type": "markdown",
   "metadata": {},
   "source": [
    "## Upload a Model"
   ]
  },
  {
   "cell_type": "code",
   "execution_count": 4,
   "metadata": {},
   "outputs": [],
   "source": [
    "#import joblib\n",
    "#model_filename = 'xgboost_SMOTE_model.pkl'\n",
    "#loaded_model = joblib.load(model_filename)"
   ]
  },
  {
   "cell_type": "markdown",
   "metadata": {},
   "source": [
    "## EXTRAS"
   ]
  },
  {
   "cell_type": "code",
   "execution_count": 10,
   "metadata": {},
   "outputs": [
    {
     "data": {
      "image/png": "[encoded data removed]",
      "text/plain": [
       "<Figure size 576x432 with 1 Axes>"
      ]
     },
     "metadata": {
      "needs_background": "light"
     },
     "output_type": "display_data"
    }
   ],
   "source": [
    "# -*- coding: utf-8 -*-\n",
    "\"\"\"OUtliders.ipynb\n",
    " \n",
    "Automatically generated by Colaboratory.\n",
    " \n",
    "Original file is located at\n",
    "https://colab.research.google.com/drive/18yXm_xykkesWAEsTx6pbUrcEGX3ccwEc\n",
    "\"\"\"\n",
    " \n",
    "#!pip instal dask\n",
    "#pip install dask-ml#\n",
    " \n",
    "#from google.colab import drive\n",
    "#drive.mount('/content/drive')\n",
    " \n",
    "import dask.dataframe as dd\n",
    "import matplotlib.pyplot as plt\n",
    " \n",
    "file_path  = \"../../Data/EC_Data/*.csv\"\n",
    " \n",
    "# Lee el archivo CSV en un DataFrame Dask\n",
    "#df = dd.read_csv(file_path)\n",
    "df = dd.read_csv(file_path, header=0)\n",
    " \n",
    "# Calcula el rango intercuartílico (IQR)\n",
    "Q1 = df['col15_float'].quantile(0.25).compute()\n",
    "Q3 = df['col15_float'].quantile(0.75).compute()\n",
    "IQR = Q3 - Q1\n",
    " \n",
    "# Calcula los límites para identificar outliers\n",
    "lower_bound = Q1 - 1.5 * IQR\n",
    "upper_bound = Q3 + 1.5 * IQR\n",
    " \n",
    "# Visualiza los outliers\n",
    "outliers = df[(df['col15_float'] < lower_bound) | (df['col15_float'] > upper_bound)].compute()\n",
    " \n",
    "# Grafica los datos y los outliers\n",
    "plt.figure(figsize=(8, 6))\n",
    "plt.scatter(df['col15_float'].compute(), [0] * len(df), label='Datos', color='blue')\n",
    "plt.scatter(outliers['col15_float'], [0] * len(outliers), label='Outliers', color='red', marker='x', s=100)\n",
    "plt.legend()\n",
    "plt.xlabel('Valor')\n",
    "plt.title('Visualización de Outliers')\n",
    "plt.show()\n",
    " "
   ]
  },
  {
   "cell_type": "code",
   "execution_count": 9,
   "metadata": {},
   "outputs": [],
   "source": [
    "import seaborn as sns\n",
    "import matplotlib.pyplot as plt\n",
    "def plot_boxplot(data, column_name):\n",
    "    \"\"\"\n",
    "    Genera un boxplot de una columna de datos.\n",
    "\n",
    "    Args:\n",
    "        data (dask.dataframe.DataFrame): El DataFrame Dask que contiene los datos.\n",
    "        column_name (str): El nombre de la columna que se va a graficar.\n",
    "\n",
    "    Returns:\n",
    "        None\n",
    "    \"\"\"\n",
    "    # Crea el boxplot\n",
    "    plt.figure(figsize=(8, 6))  # Ajusta el tamaño del gráfico\n",
    "    sns.boxplot(x=data[column_name].compute())\n",
    "\n",
    "    # Personaliza el gráfico\n",
    "    plt.title(f'Boxplot de {column_name}')\n",
    "    plt.xlabel(column_name)\n",
    "\n",
    "    plt.show()"
   ]
  },
  {
   "cell_type": "code",
   "execution_count": 16,
   "metadata": {},
   "outputs": [
    {
     "data": {
      "image/png": "[encoded data removed]",
      "text/plain": [
       "<Figure size 576x432 with 1 Axes>"
      ]
     },
     "metadata": {
      "needs_background": "light"
     },
     "output_type": "display_data"
    }
   ],
   "source": [
    "plot_boxplot(df, 'col13_float')"
   ]
  }
 ],
 "metadata": {
  "kernelspec": {
   "display_name": "Python 3",
   "language": "python",
   "name": "python3"
  },
  "language_info": {
   "codemirror_mode": {
    "name": "ipython",
    "version": 3
   },
   "file_extension": ".py",
   "mimetype": "text/x-python",
   "name": "python",
   "nbconvert_exporter": "python",
   "pygments_lexer": "ipython3",
   "version": "3.9.7"
  }
 },
 "nbformat": 4,
 "nbformat_minor": 2
}
